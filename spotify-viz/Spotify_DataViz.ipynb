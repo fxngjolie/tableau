{
 "cells": [
  {
   "cell_type": "code",
   "execution_count": 65,
   "id": "65bb8a7a",
   "metadata": {},
   "outputs": [],
   "source": [
    "import pandas as pd\n",
    "import numpy as np\n",
    "import requests\n",
    "import os"
   ]
  },
  {
   "cell_type": "code",
   "execution_count": 66,
   "id": "658c6c1b",
   "metadata": {},
   "outputs": [
    {
     "data": {
      "text/html": [
       "<div>\n",
       "<style scoped>\n",
       "    .dataframe tbody tr th:only-of-type {\n",
       "        vertical-align: middle;\n",
       "    }\n",
       "\n",
       "    .dataframe tbody tr th {\n",
       "        vertical-align: top;\n",
       "    }\n",
       "\n",
       "    .dataframe thead th {\n",
       "        text-align: right;\n",
       "    }\n",
       "</style>\n",
       "<table border=\"1\" class=\"dataframe\">\n",
       "  <thead>\n",
       "    <tr style=\"text-align: right;\">\n",
       "      <th></th>\n",
       "      <th>endTime</th>\n",
       "      <th>artistName</th>\n",
       "      <th>trackName</th>\n",
       "      <th>msPlayed</th>\n",
       "      <th>minsPlayed</th>\n",
       "    </tr>\n",
       "  </thead>\n",
       "  <tbody>\n",
       "    <tr>\n",
       "      <th>0</th>\n",
       "      <td>2021-08-21 08:44</td>\n",
       "      <td>Fort Minor</td>\n",
       "      <td>Remember the Name (feat. Styles of Beyond)</td>\n",
       "      <td>230493</td>\n",
       "      <td>3.841550</td>\n",
       "    </tr>\n",
       "    <tr>\n",
       "      <th>1</th>\n",
       "      <td>2021-08-21 08:46</td>\n",
       "      <td>Nickelback</td>\n",
       "      <td>We Will Rock You - 2020 Remaster</td>\n",
       "      <td>2327</td>\n",
       "      <td>0.038783</td>\n",
       "    </tr>\n",
       "    <tr>\n",
       "      <th>2</th>\n",
       "      <td>2021-08-21 08:46</td>\n",
       "      <td>Macklemore &amp; Ryan Lewis</td>\n",
       "      <td>Can't Hold Us - feat. Ray Dalton</td>\n",
       "      <td>138497</td>\n",
       "      <td>2.308283</td>\n",
       "    </tr>\n",
       "    <tr>\n",
       "      <th>3</th>\n",
       "      <td>2021-08-21 08:47</td>\n",
       "      <td>Papa Roach</td>\n",
       "      <td>Last Resort</td>\n",
       "      <td>17263</td>\n",
       "      <td>0.287717</td>\n",
       "    </tr>\n",
       "    <tr>\n",
       "      <th>4</th>\n",
       "      <td>2021-08-21 08:48</td>\n",
       "      <td>MARINA</td>\n",
       "      <td>Bubblegum Bitch</td>\n",
       "      <td>11242</td>\n",
       "      <td>0.187367</td>\n",
       "    </tr>\n",
       "  </tbody>\n",
       "</table>\n",
       "</div>"
      ],
      "text/plain": [
       "            endTime               artistName  \\\n",
       "0  2021-08-21 08:44               Fort Minor   \n",
       "1  2021-08-21 08:46               Nickelback   \n",
       "2  2021-08-21 08:46  Macklemore & Ryan Lewis   \n",
       "3  2021-08-21 08:47               Papa Roach   \n",
       "4  2021-08-21 08:48                   MARINA   \n",
       "\n",
       "                                    trackName  msPlayed  minsPlayed  \n",
       "0  Remember the Name (feat. Styles of Beyond)    230493    3.841550  \n",
       "1            We Will Rock You - 2020 Remaster      2327    0.038783  \n",
       "2            Can't Hold Us - feat. Ray Dalton    138497    2.308283  \n",
       "3                                 Last Resort     17263    0.287717  \n",
       "4                             Bubblegum Bitch     11242    0.187367  "
      ]
     },
     "execution_count": 66,
     "metadata": {},
     "output_type": "execute_result"
    }
   ],
   "source": [
    "df = pd.read_json('MyData\\StreamingHistory1.json')\n",
    "df['minsPlayed']=df['msPlayed']/60000\n",
    "df.head()"
   ]
  },
  {
   "cell_type": "markdown",
   "id": "3a132a6a",
   "metadata": {},
   "source": [
    "Spotify API - Genre"
   ]
  },
  {
   "cell_type": "code",
   "execution_count": 67,
   "id": "fe297802",
   "metadata": {},
   "outputs": [],
   "source": [
    "import spotipy\n",
    "from spotipy.oauth2 import SpotifyClientCredentials\n",
    "\n",
    "client_id = '35660393586844f58ed34390115937cd'\n",
    "client_secret = '780b6b95904b44768303581349ec18fa'\n",
    "client_credentials_manager = SpotifyClientCredentials(client_id=client_id, client_secret=client_secret)\n",
    "sp = spotipy.Spotify(client_credentials_manager=client_credentials_manager) #spotify object to access API"
   ]
  },
  {
   "cell_type": "code",
   "execution_count": 68,
   "id": "11f099a3",
   "metadata": {},
   "outputs": [],
   "source": [
    "def get_artist_genre(name):\n",
    "    result = sp.search(name)\n",
    "    if not result[\"tracks\"][\"items\"]:\n",
    "        return []\n",
    "    track = result['tracks']['items'][0]\n",
    "    artist = sp.artist(track[\"artists\"][0][\"external_urls\"][\"spotify\"])\n",
    "    return artist[\"genres\"]"
   ]
  },
  {
   "cell_type": "code",
   "execution_count": 69,
   "id": "82b368c8",
   "metadata": {},
   "outputs": [],
   "source": [
    "gen_list = []\n",
    "for name in df['artistName']:\n",
    "    gen_list.append(get_artist_genre(name))"
   ]
  },
  {
   "cell_type": "code",
   "execution_count": 70,
   "id": "98c9d7e9",
   "metadata": {},
   "outputs": [
    {
     "data": {
      "text/html": [
       "<div>\n",
       "<style scoped>\n",
       "    .dataframe tbody tr th:only-of-type {\n",
       "        vertical-align: middle;\n",
       "    }\n",
       "\n",
       "    .dataframe tbody tr th {\n",
       "        vertical-align: top;\n",
       "    }\n",
       "\n",
       "    .dataframe thead th {\n",
       "        text-align: right;\n",
       "    }\n",
       "</style>\n",
       "<table border=\"1\" class=\"dataframe\">\n",
       "  <thead>\n",
       "    <tr style=\"text-align: right;\">\n",
       "      <th></th>\n",
       "      <th>genre</th>\n",
       "    </tr>\n",
       "  </thead>\n",
       "  <tbody>\n",
       "    <tr>\n",
       "      <th>0</th>\n",
       "      <td>pop rap</td>\n",
       "    </tr>\n",
       "    <tr>\n",
       "      <th>0</th>\n",
       "      <td>rap rock</td>\n",
       "    </tr>\n",
       "    <tr>\n",
       "      <th>1</th>\n",
       "      <td>alternative metal</td>\n",
       "    </tr>\n",
       "    <tr>\n",
       "      <th>1</th>\n",
       "      <td>canadian rock</td>\n",
       "    </tr>\n",
       "    <tr>\n",
       "      <th>1</th>\n",
       "      <td>nu metal</td>\n",
       "    </tr>\n",
       "  </tbody>\n",
       "</table>\n",
       "</div>"
      ],
      "text/plain": [
       "               genre\n",
       "0            pop rap\n",
       "0           rap rock\n",
       "1  alternative metal\n",
       "1      canadian rock\n",
       "1           nu metal"
      ]
     },
     "execution_count": 70,
     "metadata": {},
     "output_type": "execute_result"
    }
   ],
   "source": [
    "df_genre = pd.Series(gen_list)\n",
    "df_genre = pd.DataFrame(df_genre,columns=[\"genre\"])\n",
    "df_genre_expanded = df_genre.explode(\"genre\")\n",
    "df_genre_expanded.head()"
   ]
  },
  {
   "cell_type": "code",
   "execution_count": 71,
   "id": "4c4a44e3",
   "metadata": {},
   "outputs": [],
   "source": [
    "df.to_csv('MySpotify.csv')\n",
    "df_genre_expanded.to_csv('GenresExpanded.csv')"
   ]
  }
 ],
 "metadata": {
  "kernelspec": {
   "display_name": "Python 3",
   "language": "python",
   "name": "python3"
  },
  "language_info": {
   "codemirror_mode": {
    "name": "ipython",
    "version": 3
   },
   "file_extension": ".py",
   "mimetype": "text/x-python",
   "name": "python",
   "nbconvert_exporter": "python",
   "pygments_lexer": "ipython3",
   "version": "3.8.8"
  }
 },
 "nbformat": 4,
 "nbformat_minor": 5
}
